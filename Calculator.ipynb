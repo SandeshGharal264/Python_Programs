{
 "cells": [
  {
   "cell_type": "code",
   "execution_count": 4,
   "id": "d47f33bc",
   "metadata": {},
   "outputs": [
    {
     "name": "stdout",
     "output_type": "stream",
     "text": [
      "********************Calculator********************\n",
      "Enter first value: 20\n",
      "Enter Second value: 12\n",
      "1. Addition\n",
      "2. Subtraction\n",
      "3. Mulitiplication\n",
      "4. Division\n",
      "Enter your choice: 2\n",
      "Subtraction is:  8.0\n"
     ]
    }
   ],
   "source": [
    "print(\"********************Calculator********************\");\n",
    "\n",
    "n1=float(input(\"Enter first value: \"))\n",
    "n2=float(input(\"Enter Second value: \"))\n",
    "\n",
    "print(\"1. Addition\");\n",
    "print(\"2. Subtraction\");\n",
    "print(\"3. Mulitiplication\");\n",
    "print(\"4. Division\");\n",
    "ch=int(input(\"Enter your choice: \"))\n",
    "\n",
    "def Addition():\n",
    "    n3=n1+n2\n",
    "    print(\"Addition is: \",n3)\n",
    "def Subtraction():\n",
    "    n3=n1-n2\n",
    "    print(\"Subtraction is: \",n3)\n",
    "def Multiplicatin():\n",
    "    n3=n1*n2\n",
    "    print(\"Multipliacation is: \")\n",
    "def Division():\n",
    "    n3=n1//n2\n",
    "    print(\"Division is: \");\n",
    "    \n",
    "\n",
    "if ch==1:\n",
    "    Addition()\n",
    "elif ch==2:\n",
    "    Subtraction()\n",
    "elif ch==3:\n",
    "    Multiplication()\n",
    "elif ch==4:\n",
    "    Division()\n",
    "else:\n",
    "    print(\"Enter correct choice \")\n",
    "    \n"
   ]
  },
  {
   "cell_type": "code",
   "execution_count": null,
   "id": "2e075b49",
   "metadata": {},
   "outputs": [],
   "source": []
  }
 ],
 "metadata": {
  "kernelspec": {
   "display_name": "Python 3",
   "language": "python",
   "name": "python3"
  },
  "language_info": {
   "codemirror_mode": {
    "name": "ipython",
    "version": 3
   },
   "file_extension": ".py",
   "mimetype": "text/x-python",
   "name": "python",
   "nbconvert_exporter": "python",
   "pygments_lexer": "ipython3",
   "version": "3.8.8"
  }
 },
 "nbformat": 4,
 "nbformat_minor": 5
}
