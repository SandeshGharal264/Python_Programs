{
 "cells": [
  {
   "cell_type": "code",
   "execution_count": 9,
   "id": "2f45c213",
   "metadata": {},
   "outputs": [
    {
     "name": "stdout",
     "output_type": "stream",
     "text": [
      "\u001b[1;34;10m                  **********WELOCOME TO GUESSING NUMBER GAME********* \n",
      "\u001b[1;31;10m                  YOU HAVE ONLY 5 ATTEMPTS TO WIN THIS GAME \n",
      "\u001b[1;31;10m      PLEASE NOTE THAT YOUR ENTERED LOWER & HIGHER NUMBERS HAVING MINIMUM 8 NUMBERS DIFFERENCE\n",
      "\u001b[1;34;10m                  ****************LET'S START THE GAME***************\n",
      " Enter your lower number : 10\n",
      " Enter your higher number : 20\n",
      " \n",
      "\u001b[1;35;10m Your range between 10 to 20\n",
      "\u001b[1;35;10m Number in range are :  10\n",
      " Enter your number : 11\n",
      " \n",
      "\u001b[1;31;10m No match found please try again\n",
      "\u001b[1;31;10m You have only 4 attempt remaining\n",
      " \n",
      " Enter another number13\n",
      "\u001b[1;31;10m No match found please try again\n",
      "\u001b[1;31;10m You have only 3 attempt remaining\n",
      " \n",
      " Enter another number19\n",
      "\u001b[1;34;10m Congratulations you won in 3 attempt\n"
     ]
    }
   ],
   "source": [
    "import numpy as n\n",
    "print(\"\\033[1;34;10m                  **********WELOCOME TO GUESSING NUMBER GAME********* \")\n",
    "print(\"\\033[1;31;10m                  YOU HAVE ONLY 5 ATTEMPTS TO WIN THIS GAME \")\n",
    "print(\"\\033[1;31;10m      PLEASE NOTE THAT YOUR ENTERED LOWER & HIGHER NUMBERS HAVING MINIMUM 8 NUMBERS DIFFERENCE\")\n",
    "print(\"\\033[1;34;10m                  ****************LET'S START THE GAME***************\")\n",
    "\n",
    "def GUESSING_GAME():\n",
    "    lower=int(input(\"\\033[1;35;10m Enter your lower number : \"))\n",
    "    higher=int(input(\"\\033[1;35;10m Enter your higher number : \"))\n",
    "    print(\" \")\n",
    "    \n",
    "    print(\"\\033[1;35;10m Your range between\",lower,\"to\",higher)\n",
    "    length=n.arange(lower,higher)\n",
    "    len1=len(length)\n",
    "    print(\"\\033[1;35;10m Number in range are : \", len1)\n",
    "    \n",
    "    if len1>=8:\n",
    "        guess=n.random.randint(lower,higher)\n",
    "        num=int(input(\"\\033[1;35;10m Enter your number : \"))\n",
    "        print(\" \")\n",
    "        count=1\n",
    "        att=5\n",
    "        \n",
    "        if num==guess:\n",
    "            \n",
    "            print(\"\\033[1;34;10m Congratulations you won in 1st attempt\")\n",
    "            \n",
    "        elif count==1:\n",
    "            for i in range(att,1,-1):\n",
    "                att=att-1\n",
    "                count=count+1\n",
    "                print(\"\\033[1;31;10m No match found please try again\")\n",
    "                print(\"\\033[1;31;10m You have only\",att,\"attempt remaining\")\n",
    "                print(\" \")\n",
    "                \n",
    "                num=int(input(\"\\033[1;35;10m Enter another number\"))\n",
    "                \n",
    "                if num==guess:\n",
    "                    \n",
    "                    print(\"\\033[1;34;10m Congratulations you won in\",count,\"attempt\")\n",
    "                    break\n",
    "            else:\n",
    "                print(\"\\033[1;31;10m You lose the game\")\n",
    "                print(\"\\033[1;31;10m Better luck next time\")\n",
    "                print(\" \")\n",
    "                print(\"\\033[1;34;10m main number is : \",guess)\n",
    "                \n",
    "    else:\n",
    "        print(\" \")\n",
    "        print(\"\\033[1;31;10m Please reenter your list\")\n",
    "        print(\"\\033[1;31;10m Because your numbers in range are less than 8\")\n",
    "        print(\" \")\n",
    "        GUESSING_GAME()\n",
    "GUESSING_GAME()\n"
   ]
  },
  {
   "cell_type": "code",
   "execution_count": null,
   "id": "ed219267",
   "metadata": {},
   "outputs": [],
   "source": []
  }
 ],
 "metadata": {
  "kernelspec": {
   "display_name": "Python 3",
   "language": "python",
   "name": "python3"
  },
  "language_info": {
   "codemirror_mode": {
    "name": "ipython",
    "version": 3
   },
   "file_extension": ".py",
   "mimetype": "text/x-python",
   "name": "python",
   "nbconvert_exporter": "python",
   "pygments_lexer": "ipython3",
   "version": "3.8.8"
  }
 },
 "nbformat": 4,
 "nbformat_minor": 5
}
